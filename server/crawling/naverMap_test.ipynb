{
 "cells": [
  {
   "cell_type": "code",
   "execution_count": 1,
   "metadata": {},
   "outputs": [
    {
     "name": "stdout",
     "output_type": "stream",
     "text": [
      "Requirement already satisfied: selenium in /Users/jinnan_yun/opt/anaconda3/envs/mip2021/lib/python3.6/site-packages (3.141.0)\n",
      "Requirement already satisfied: urllib3 in /Users/jinnan_yun/opt/anaconda3/envs/mip2021/lib/python3.6/site-packages (from selenium) (1.26.6)\n",
      "Requirement already satisfied: chromedriver_autoinstaller in /Users/jinnan_yun/opt/anaconda3/envs/mip2021/lib/python3.6/site-packages (0.3.1)\n"
     ]
    }
   ],
   "source": [
    "!pip3 install selenium\n",
    "!pip3 install chromedriver_autoinstaller"
   ]
  },
  {
   "cell_type": "code",
   "execution_count": 2,
   "metadata": {},
   "outputs": [],
   "source": [
    "import time\n",
    "import sys \n",
    "import os \n",
    "\n",
    "import pandas as pd\n",
    "import numpy as np\n",
    "\n",
    "from selenium import webdriver \n",
    "import chromedriver_autoinstaller\n",
    "from selenium.webdriver.common.keys import Keys\n",
    "from selenium.webdriver.common.action_chains import ActionChains\n",
    "\n",
    "import warnings\n",
    "warnings.filterwarnings('ignore')"
   ]
  },
  {
   "cell_type": "code",
   "execution_count": 38,
   "metadata": {},
   "outputs": [],
   "source": [
    "# 검색어 입력 \n",
    "# guery = input('검색지역? ')\n",
    "query = '성동구 복지센터'"
   ]
  },
  {
   "cell_type": "code",
   "execution_count": 39,
   "metadata": {},
   "outputs": [],
   "source": [
    "path = chromedriver_autoinstaller.install()\n",
    "driver = webdriver.Chrome(path)\n",
    "driver.get(f\"https://map.naver.com/v5/search/{query}?c=14203933.7141038,4562681.4505997,10,0,0,0,dh\")"
   ]
  },
  {
   "cell_type": "code",
   "execution_count": 40,
   "metadata": {},
   "outputs": [],
   "source": [
    "# 검색결과 iframe 접근\n",
    "driver.switch_to.frame(\"searchIframe\")"
   ]
  },
  {
   "cell_type": "code",
   "execution_count": 41,
   "metadata": {},
   "outputs": [
    {
     "name": "stdout",
     "output_type": "stream",
     "text": [
      "[]\n",
      "120 0\n"
     ]
    }
   ],
   "source": [
    "# 처음 돌릴 땐 자료 60개 수집..\n",
    "# 1페이지로 돌아간 뒤 한번 더 돌리면 300개 정도 추출됨 (검색 결과 많은 경우)\n",
    "\n",
    "\n",
    "title_list = []\n",
    "f_data_list = []\n",
    "\n",
    "try: \n",
    "    for i in range(1,7): \n",
    "        driver.find_element_by_link_text(str(i)).click()\n",
    "        try: \n",
    "            for j in range(3,70,3):\n",
    "                element = driver.find_elements_by_css_selector(\"._2s4DU\")[j] #_2s4DU\n",
    "                ActionChains(driver).move_to_element(element).key_down(Keys.PAGE_DOWN).key_up(Keys.PAGE_DOWN).perform()\n",
    "        except:\n",
    "            pass\n",
    "\n",
    "        title_raw = driver.find_elements_by_css_selector(\"._2s4DU\") #_1sfuL - 부산 맛집\n",
    "        for title in title_raw:\n",
    "            title = title.text\n",
    "            title_list.append(title)\n",
    "\n",
    "        # 평점 등 데이터\n",
    "        data_raw = driver.find_elements_by_css_selector('._5t9AL ._1l-8_ ._10h5- ._1vSpB') #_1h3B #1vSpB \n",
    "        #_2Po-x : 동까지 나옴\n",
    "        for data in data_raw: \n",
    "            data = data.text\n",
    "            f_data_list.append(data)\n",
    "        \n",
    "except:\n",
    "    pass\n",
    "\n",
    "print(f_data_list)\n",
    "\n",
    "print(len(title_list),len(f_data_list))"
   ]
  },
  {
   "cell_type": "code",
   "execution_count": null,
   "metadata": {},
   "outputs": [],
   "source": [
    "driver.get(f\"https://map.naver.com/v5/search/{query}?c=14203933.7141038,4562681.4505997,10,0,0,0,dh\")"
   ]
  },
  {
   "cell_type": "code",
   "execution_count": 21,
   "metadata": {},
   "outputs": [],
   "source": [
    "## 데이터 프레임 만들기\n",
    "df = pd.DataFrame({'title':title_list,})\n",
    "#df = pd.DataFrame({'title':title_list, 'data':f_data_list})\n",
    "df"
   ]
  },
  {
   "cell_type": "code",
   "execution_count": null,
   "metadata": {},
   "outputs": [],
   "source": [
    "#csv로 저장\n",
    "df.to_csv('location1.csv')"
   ]
  },
  {
   "cell_type": "code",
   "execution_count": null,
   "metadata": {},
   "outputs": [],
   "source": []
  },
  {
   "cell_type": "code",
   "execution_count": null,
   "metadata": {},
   "outputs": [],
   "source": []
  },
  {
   "cell_type": "code",
   "execution_count": null,
   "metadata": {},
   "outputs": [],
   "source": []
  }
 ],
 "metadata": {
  "kernelspec": {
   "display_name": "Python 3",
   "language": "python",
   "name": "python3"
  },
  "language_info": {
   "codemirror_mode": {
    "name": "ipython",
    "version": 3
   },
   "file_extension": ".py",
   "mimetype": "text/x-python",
   "name": "python",
   "nbconvert_exporter": "python",
   "pygments_lexer": "ipython3",
   "version": "3.6.13"
  }
 },
 "nbformat": 4,
 "nbformat_minor": 4
}
